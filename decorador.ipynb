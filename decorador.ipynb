{
 "cells": [
  {
   "cell_type": "code",
   "execution_count": 1,
   "metadata": {
    "collapsed": true
   },
   "outputs": [],
   "source": [
    "def dispatch(arg_type):\n",
    "    def dispatch_decorator(func):\n",
    "        if dispatch.resolver.get(func.__qualname__) is None:\n",
    "            dispatch.resolver[func.__qualname__] = []\n",
    "        dispatch.resolver[func.__qualname__].append((arg_type, func))\n",
    "        \n",
    "        def func_wrapper(arg0, *args, **kwargs):\n",
    "            for reg_type, reg_func in \\\n",
    "                    dispatch.resolver[func.__qualname__]:\n",
    "                if isinstance(arg0, reg_type):\n",
    "                    return reg_func(arg0, *args, **kwargs)\n",
    "        return func_wrapper\n",
    "    \n",
    "    return dispatch_decorator\n",
    "\n",
    "\n",
    "dispatch.resolver = {}\n"
   ]
  },
  {
   "cell_type": "code",
   "execution_count": 2,
   "metadata": {
    "collapsed": false
   },
   "outputs": [],
   "source": [
    "@dispatch(int)\n",
    "def some_func(a):\n",
    "    return a+1\n",
    "\n",
    "\n",
    "@dispatch(str)\n",
    "def some_func(a):\n",
    "    return a + ': string'"
   ]
  },
  {
   "cell_type": "code",
   "execution_count": 3,
   "metadata": {
    "collapsed": false
   },
   "outputs": [
    {
     "data": {
      "text/plain": [
       "2"
      ]
     },
     "execution_count": 3,
     "metadata": {},
     "output_type": "execute_result"
    }
   ],
   "source": [
    "some_func(1)"
   ]
  },
  {
   "cell_type": "code",
   "execution_count": 4,
   "metadata": {},
   "outputs": [
    {
     "data": {
      "text/plain": [
       "'1: string'"
      ]
     },
     "execution_count": 4,
     "metadata": {},
     "output_type": "execute_result"
    }
   ],
   "source": [
    "some_func('1')"
   ]
  }
 ],
 "metadata": {
  "kernelspec": {
   "display_name": "Python 3",
   "language": "python",
   "name": "python3"
  },
  "language_info": {
   "codemirror_mode": {
    "name": "ipython",
    "version": 3
   },
   "file_extension": ".py",
   "mimetype": "text/x-python",
   "name": "python",
   "nbconvert_exporter": "python",
   "pygments_lexer": "ipython3",
   "version": "3.6.0"
  }
 },
 "nbformat": 4,
 "nbformat_minor": 2
}
