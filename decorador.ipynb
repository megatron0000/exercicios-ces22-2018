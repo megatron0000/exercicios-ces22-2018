{
 "cells": [
  {
   "cell_type": "code",
   "execution_count": 20,
   "metadata": {
    "collapsed": true
   },
   "outputs": [],
   "source": [
    "def dispatch(type):\n",
    "    def dispatch_decorator(func):\n",
    "        if dispatch.resolver.get(func.__qualname__) is None:\n",
    "            dispatch.resolver[func.__qualname__] = []\n",
    "        dispatch.resolver[func.__qualname__].append((type, func))\n",
    "        def func_wrapper(arg0, *args, **kwargs):\n",
    "            for reg_type, reg_func in \\\n",
    "            dispatch.resolver[func.__qualname__]:\n",
    "                if isinstance(arg0, reg_type):\n",
    "                    return reg_func(arg0, *args, **kwargs);\n",
    "        return func_wrapper\n",
    "    return dispatch_decorator\n",
    "\n",
    "dispatch.resolver = {}"
   ]
  },
  {
   "cell_type": "code",
   "execution_count": 24,
   "metadata": {
    "collapsed": false
   },
   "outputs": [],
   "source": [
    "@dispatch(int)\n",
    "def some_func(a):\n",
    "    return a+1\n",
    "\n",
    "@dispatch(str)\n",
    "def some_func(a):\n",
    "    return a + ': string'"
   ]
  },
  {
   "cell_type": "code",
   "execution_count": 28,
   "metadata": {
    "collapsed": false
   },
   "outputs": [
    {
     "data": {
      "text/plain": [
       "2"
      ]
     },
     "execution_count": 28,
     "metadata": {},
     "output_type": "execute_result"
    }
   ],
   "source": [
    "some_func(1)"
   ]
  }
 ],
 "metadata": {
  "kernelspec": {
   "display_name": "Python 3",
   "language": "python",
   "name": "python3"
  },
  "language_info": {
   "codemirror_mode": {
    "name": "ipython",
    "version": 3
   },
   "file_extension": ".py",
   "mimetype": "text/x-python",
   "name": "python",
   "nbconvert_exporter": "python",
   "pygments_lexer": "ipython3",
   "version": "3.6.0"
  }
 },
 "nbformat": 4,
 "nbformat_minor": 2
}
