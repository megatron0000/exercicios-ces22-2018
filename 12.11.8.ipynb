{
 "cells": [
  {
   "cell_type": "code",
   "execution_count": 1,
   "metadata": {
    "collapsed": false
   },
   "outputs": [
    {
     "name": "stdout",
     "output_type": "stream",
     "text": [
      "Test at line 6 ok.\n",
      "Test at line 7 ok.\n",
      "Test at line 8 ok.\n",
      "Test at line 9 ok.\n",
      "Test at line 10 ok.\n",
      "Test at line 11 ok.\n",
      "Test at line 12 ok.\n",
      "Test at line 13 ok.\n",
      "Test at line 14 ok.\n",
      "Test at line 15 ok.\n",
      "Test at line 16 ok.\n",
      "Test at line 17 ok.\n",
      "Test at line 18 ok.\n",
      "Test at line 19 ok.\n",
      "Test at line 20 ok.\n",
      "Test at line 21 ok.\n",
      "Test at line 22 ok.\n",
      "Test at line 23 ok.\n",
      "Test at line 24 ok.\n",
      "Test at line 25 ok.\n",
      "Test at line 26 ok.\n"
     ]
    }
   ],
   "source": [
    "# Este arquivo tem só as execuções dos testes. A real implementação está em wordtools.py\n",
    "\n",
    "from test import test\n",
    "from wordtools import *\n",
    "\n",
    "test(cleanword(\"what?\") == \"what\")\n",
    "test(cleanword(\"’now!’\") == \"now\")\n",
    "test(cleanword(\"?+=’w-o-r-d!,@$()’\") == \"word\")\n",
    "test(has_dashdash(\"distance--but\"))\n",
    "test(not has_dashdash(\"several\"))\n",
    "test(has_dashdash(\"spoke--\"))\n",
    "test(has_dashdash(\"distance--but\"))\n",
    "test(not has_dashdash(\"-yo-yo-\"))\n",
    "test(extract_words(\"Now is the time! ’Now’, is the time? Yes, now.\") == [\"now\",\"is\",\"the\",\"time\",\"now\",\"is\",\"the\",\"time\",\"yes\",\"now\"])\n",
    "test(extract_words(\"she tried to curtsey as she spoke--fancy\") == [\"she\",\"tried\",\"to\",\"curtsey\",\"as\",\"she\",\"spoke\",\"fancy\"])\n",
    "test(wordcount(\"now\", [\"now\",\"is\",\"time\",\"is\",\"now\",\"is\",\"is\"]) == 2)\n",
    "test(wordcount(\"is\", [\"now\",\"is\",\"time\",\"is\",\"now\",\"the\",\"is\"]) == 3)\n",
    "test(wordcount(\"time\", [\"now\",\"is\",\"time\",\"is\",\"now\",\"is\",\"is\"]) == 1)\n",
    "test(wordcount(\"frog\", [\"now\",\"is\",\"time\",\"is\",\"now\",\"is\",\"is\"]) == 0)\n",
    "test(wordset([\"now\", \"is\", \"time\", \"is\", \"now\", \"is\", \"is\"]) == [\"is\", \"now\", \"time\"])\n",
    "test(wordset([\"I\", \"a\", \"a\", \"is\", \"a\", \"is\", \"I\", \"am\"]) == [\"I\", \"a\", \"am\", \"is\"])\n",
    "test(wordset([\"or\", \"a\", \"am\", \"is\", \"are\", \"be\", \"but\", \"am\"]) == [\"a\", \"am\", \"are\", \"be\", \"but\", \"is\", \"or\"])\n",
    "test(longestword([\"a\", \"apple\", \"pear\", \"grape\"]) == 5)\n",
    "test(longestword([\"a\", \"am\", \"I\", \"be\"]) == 2)\n",
    "test(longestword([\"this\",\"supercalifragilisticexpialidocious\"]) == 34)\n",
    "test(longestword([ ]) == 0)"
   ]
  }
 ],
 "metadata": {
  "kernelspec": {
   "display_name": "Python 3",
   "language": "python",
   "name": "python3"
  },
  "language_info": {
   "codemirror_mode": {
    "name": "ipython",
    "version": 3
   },
   "file_extension": ".py",
   "mimetype": "text/x-python",
   "name": "python",
   "nbconvert_exporter": "python",
   "pygments_lexer": "ipython3",
   "version": "3.6.0"
  }
 },
 "nbformat": 4,
 "nbformat_minor": 2
}
