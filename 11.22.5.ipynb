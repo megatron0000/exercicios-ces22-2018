{
 "cells": [
  {
   "cell_type": "code",
   "execution_count": 1,
   "metadata": {
    "collapsed": true
   },
   "outputs": [],
   "source": [
    "import sys\n",
    "def test(did_pass):\n",
    "    \"\"\" Print the result of a test. \"\"\"\n",
    "    linenum = sys._getframe(1).f_lineno\n",
    "    # Get the caller’s line number.\n",
    "    if did_pass:\n",
    "        msg = \"Test at line {0} ok.\".format(linenum)\n",
    "    else:\n",
    "        msg = (\"Test at line {0} FAILED.\".format(linenum))\n",
    "    print(msg)"
   ]
  },
  {
   "cell_type": "code",
   "execution_count": 2,
   "metadata": {
    "collapsed": true
   },
   "outputs": [],
   "source": [
    "def add_vectors(vec1, vec2):\n",
    "    out = []\n",
    "    for (index, elem) in enumerate(vec1):\n",
    "        out.append(elem + vec2[index])\n",
    "    return out"
   ]
  },
  {
   "cell_type": "code",
   "execution_count": 3,
   "metadata": {
    "collapsed": false
   },
   "outputs": [
    {
     "name": "stdout",
     "output_type": "stream",
     "text": [
      "Test at line 1 ok.\n",
      "Test at line 2 ok.\n",
      "Test at line 3 ok.\n"
     ]
    }
   ],
   "source": [
    "test(add_vectors([1, 1], [1, 1]) == [2, 2])\n",
    "test(add_vectors([1, 2], [1, 4]) == [2, 6])\n",
    "test(add_vectors([1, 2, 1], [1, 4, 3]) == [2, 6, 4])"
   ]
  }
 ],
 "metadata": {
  "kernelspec": {
   "display_name": "Python 3",
   "language": "python",
   "name": "python3"
  },
  "language_info": {
   "codemirror_mode": {
    "name": "ipython",
    "version": 3
   },
   "file_extension": ".py",
   "mimetype": "text/x-python",
   "name": "python",
   "nbconvert_exporter": "python",
   "pygments_lexer": "ipython3",
   "version": "3.6.0"
  }
 },
 "nbformat": 4,
 "nbformat_minor": 2
}
