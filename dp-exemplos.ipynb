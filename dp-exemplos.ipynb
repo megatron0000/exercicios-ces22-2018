{
 "cells": [
  {
   "cell_type": "code",
   "execution_count": null,
   "metadata": {
    "collapsed": true
   },
   "outputs": [],
   "source": [
    "# Exemplos de:\n",
    "# Ponte/Decorador/Compósito/Abstract-Factory/Mediator/State"
   ]
  },
  {
   "cell_type": "markdown",
   "metadata": {},
   "source": [
    "````\n",
    "Para acompanhar a estrutura das classes desenvolvidas (e saber o que está acontecendo nos testes), leia este arquivo junto com o \"dp-exemplos.pdf\" disponível neste mesmo diretório\n",
    "````"
   ]
  },
  {
   "cell_type": "markdown",
   "metadata": {},
   "source": [
    "# Exemplo 1: Ponte"
   ]
  },
  {
   "cell_type": "code",
   "execution_count": 40,
   "metadata": {
    "collapsed": true
   },
   "outputs": [],
   "source": [
    "# Exemplo 1: Ponte\n",
    "\n",
    "import abc\n",
    "\n",
    "\n",
    "# OBS: Um \"Node\" é qualquer tipo de objeto passível de hash\n",
    "\n",
    "\n",
    "class TreeImplementation(abc.ABC):\n",
    "    @abc.abstractmethod\n",
    "    def add(self, parent, child):\n",
    "        \"\"\"\n",
    "        Adds child to parent in the tree\n",
    "        :param parent: A node in the tree\n",
    "        :param child: A node not in the tree\n",
    "        \"\"\"\n",
    "        pass\n",
    "\n",
    "    @abc.abstractmethod\n",
    "    def rm(self, node):\n",
    "        \"\"\"\n",
    "        Removes 'node' from the tree along with its entire subtree\n",
    "        :param node: A node in the tree\n",
    "        \"\"\"\n",
    "        pass\n",
    "\n",
    "    @abc.abstractmethod\n",
    "    def root(self):\n",
    "        \"\"\"\n",
    "        Gets the root\n",
    "        :return: A node (or None if tree is empty)\n",
    "        \"\"\"\n",
    "        pass\n",
    "\n",
    "    @abc.abstractmethod\n",
    "    def children(self, node):\n",
    "        \"\"\"\n",
    "        Get children of node\n",
    "        :param node: A node in the tree\n",
    "        :return: list with children (may be empty list)\n",
    "        \"\"\"\n",
    "        pass\n",
    "\n",
    "    @abc.abstractmethod\n",
    "    def parent(self, node):\n",
    "        \"\"\"\n",
    "        Gets parent of node\n",
    "        :param node: A node in the tree\n",
    "        :return: A node in the tree, or None if 'node' is root\n",
    "        \"\"\"\n",
    "        pass\n",
    "\n",
    "\n",
    "class Tree(object):\n",
    "    def __init__(self, implementation):\n",
    "        \"\"\"\n",
    "        :param implementation: Subclass of TreeImplementation containing implementation \n",
    "        \"\"\"\n",
    "        self._impl = implementation\n",
    "\n",
    "    def add(self, parent, child):\n",
    "        return self._impl.add(parent, child)\n",
    "\n",
    "    def rm(self, node):\n",
    "        return self._impl.rm(node)\n",
    "\n",
    "    def root(self):\n",
    "        return self._impl.root()\n",
    "\n",
    "    def children(self, node):\n",
    "        return self._impl.children(node)\n",
    "\n",
    "    def parent(self, node):\n",
    "        return self._impl.parent(node)\n",
    "\n",
    "\n",
    "class TreeWithDicts(TreeImplementation):\n",
    "    \"\"\"\n",
    "    'node' refers to internal implementation\n",
    "    'value' refers to what clients of this class store in the tree\n",
    "    A 'value' must be unique across the tree\n",
    "    \"\"\"\n",
    "\n",
    "    def __init__(self):\n",
    "        self.__nodes = None  # Each node is { value: any , children: list }\n",
    "\n",
    "    def __find_by_value(self, value, start_node):\n",
    "        \"\"\"\n",
    "        :param value: A value (user-defined) \n",
    "        :param start_node: A node (implementation internal)\n",
    "        :return: (node, parent_node)\n",
    "        \"\"\"\n",
    "        if value == start_node['value']:\n",
    "            return start_node, 'caller'\n",
    "\n",
    "        for child in start_node['children']:\n",
    "            node, parent = self.__find_by_value(value, child)\n",
    "            if parent == 'caller':\n",
    "                parent = start_node\n",
    "            if node is not None:\n",
    "                return node, parent\n",
    "\n",
    "        return None, None\n",
    "\n",
    "    def add(self, parent, child):\n",
    "        # Insert root\n",
    "        if parent is None and self.__nodes is None:\n",
    "            self.__nodes = {'value': child, 'children': []}\n",
    "        # Insert child\n",
    "        elif parent is not None and self.__nodes is not None:\n",
    "            parent_node, _ = self.__find_by_value(parent, self.__nodes)\n",
    "            if parent_node is not None:\n",
    "                parent_node['children'].append({'value': child, 'children': []})\n",
    "                return\n",
    "\n",
    "    def rm(self, node):\n",
    "        if self.__nodes is None:\n",
    "            return\n",
    "\n",
    "        internal_node, internal_parent = self.__find_by_value(node, self.__nodes)\n",
    "        if internal_parent == 'caller':\n",
    "            internal_parent = None\n",
    "\n",
    "        if internal_node is None:\n",
    "            return\n",
    "\n",
    "        if internal_parent is None:\n",
    "            self.__nodes = {}\n",
    "        else:\n",
    "            internal_parent['children'].remove(internal_node)\n",
    "\n",
    "    def root(self):\n",
    "        return self.__nodes['value']\n",
    "\n",
    "    def children(self, node):\n",
    "        if self.__nodes is None:\n",
    "            return None\n",
    "\n",
    "        internal_node, _ = self.__find_by_value(node, self.__nodes)\n",
    "\n",
    "        if internal_node is None:\n",
    "            return None\n",
    "\n",
    "        return [child['value'] for child in internal_node['children']]\n",
    "\n",
    "    def parent(self, node):\n",
    "        if self.__nodes is None:\n",
    "            raise Exception('Tried to find parent of a node in an empty tree')\n",
    "\n",
    "        internal_node, internal_parent = self.__find_by_value(node, self.__nodes)\n",
    "        if internal_parent == 'caller':\n",
    "            internal_parent = None\n",
    "\n",
    "        if internal_node is None:\n",
    "            return None\n",
    "\n",
    "        if internal_parent is None:\n",
    "            return None\n",
    "\n",
    "        return internal_parent['value']\n",
    "\n",
    "\n",
    "class Node(object):\n",
    "    def __init__(self, label):\n",
    "        self.label = label\n",
    "\n",
    "\n",
    "class MathTree(Tree):\n",
    "    \"\"\"\n",
    "    Expects to work with Node instances\n",
    "    \"\"\"\n",
    "    \n",
    "    def __init__(self):\n",
    "        super().__init__(TreeWithDicts())\n",
    "\n",
    "    def __evaluate(self, node: Node):\n",
    "        if node.label == '+':\n",
    "            children = self.children(node)\n",
    "            return self.__evaluate(children[0]) + self.__evaluate(children[1])\n",
    "        elif node.label == '-':\n",
    "            children = self.children(node)\n",
    "            return self.__evaluate(children[0]) - self.__evaluate(children[1])\n",
    "        elif node.label == '/':\n",
    "            children = self.children(node)\n",
    "            return self.__evaluate(children[0]) / self.__evaluate(children[1])\n",
    "        elif node.label == '*':\n",
    "            children = self.children(node)\n",
    "            return self.__evaluate(children[0]) * self.__evaluate(children[1])\n",
    "        # Expects number\n",
    "        else:\n",
    "            return node.label\n",
    "\n",
    "    def evaluate(self):\n",
    "        return self.__evaluate(self.root())\n"
   ]
  },
  {
   "cell_type": "markdown",
   "metadata": {},
   "source": [
    "# Teste do exemplo 1"
   ]
  },
  {
   "cell_type": "code",
   "execution_count": 43,
   "metadata": {
    "collapsed": false
   },
   "outputs": [
    {
     "data": {
      "text/plain": [
       "-5.0"
      ]
     },
     "execution_count": 43,
     "metadata": {},
     "output_type": "execute_result"
    }
   ],
   "source": [
    "# We build the expression \"1 + (2 - (8 / 2)) * 3\"\n",
    "mult = Node('*')\n",
    "div = Node('/')\n",
    "minus = Node('-')\n",
    "plus = Node('+')\n",
    "three = Node(3)\n",
    "right2 = Node(2)\n",
    "eight = Node(8)\n",
    "left2 = Node(2)\n",
    "one = Node(1)\n",
    "\n",
    "a = MathTree()\n",
    "a.add(None, plus)\n",
    "a.add(plus, one)\n",
    "a.add(plus, mult)\n",
    "a.add(mult, minus)\n",
    "a.add(mult, three)\n",
    "a.add(minus, left2)\n",
    "a.add(minus, div)\n",
    "a.add(div, eight)\n",
    "a.add(div, right2)\n",
    "a.evaluate()  # Faça as contas ! Dá -5 mesmo...\n"
   ]
  },
  {
   "cell_type": "markdown",
   "metadata": {},
   "source": [
    "# Exemplo 2: Composição"
   ]
  },
  {
   "cell_type": "code",
   "execution_count": 47,
   "metadata": {
    "collapsed": true
   },
   "outputs": [],
   "source": [
    "class TreeWithComposition(TreeImplementation):\n",
    "    \"\"\"\n",
    "    Nodes must be instances of TreeWithComposition itself !\n",
    "    \n",
    "    The \"root\" of a TreeWithComposition is the instance itself\n",
    "    \n",
    "    The tree cannot be empty\n",
    "    \"\"\"\n",
    "    \n",
    "    def __init__(self):\n",
    "        super().__init__()\n",
    "        self.__children = []\n",
    "\n",
    "    def add(self, parent, child):\n",
    "        parent.__children.append(child)\n",
    "    \n",
    "    def __recurse_rm(self, node):\n",
    "        for child in self.__children:\n",
    "            if child == node:\n",
    "                self.__children.remove(child)\n",
    "                return True\n",
    "            if child.__recurse_rm(node) is True:\n",
    "                return\n",
    "\n",
    "    def rm(self, node):\n",
    "        self.__recurse_rm(node)\n",
    "\n",
    "    def root(self):\n",
    "        return self\n",
    "\n",
    "    def children(self, node):\n",
    "        return self.__children\n",
    "    \n",
    "    def __recurse_parent(self, node):\n",
    "        if node in self.__children:\n",
    "            return self\n",
    "        for child in self.__children:\n",
    "            parent = child.__recurse_parent(node)\n",
    "            if parent:\n",
    "                return parent\n",
    "        return None\n",
    "\n",
    "    def parent(self, node):\n",
    "        return self.__recurse_parent(node)"
   ]
  },
  {
   "cell_type": "markdown",
   "metadata": {},
   "source": [
    "# Exemplo 3: Mediador + Fábrica Abstrata + Estado + Decorador"
   ]
  },
  {
   "cell_type": "code",
   "execution_count": 370,
   "metadata": {
    "collapsed": true
   },
   "outputs": [],
   "source": [
    "# Só implemento algumas das classes mencionadas no pdf, porque as outras são\n",
    "# só ilustrativas do que é possível fazer\n",
    "\n",
    "from threading import Timer\n",
    "import abc\n",
    "from weakref import WeakSet\n",
    "\n",
    "\n",
    "class ChatRoom(abc.ABC):\n",
    "    @abc.abstractmethod\n",
    "    def connect(self):\n",
    "        \"\"\"\n",
    "        Connects the channel. After connected, messages can be sent\n",
    "        \"\"\"\n",
    "        pass\n",
    "\n",
    "    @abc.abstractmethod\n",
    "    def disconnect(self):\n",
    "        \"\"\"\n",
    "        Disconnects. After disconnected, messages can no longer be sent or received        \n",
    "        \"\"\"\n",
    "        pass\n",
    "\n",
    "    @abc.abstractmethod\n",
    "    def send(self, message):\n",
    "        \"\"\"\n",
    "        Sends message to all connected peers\n",
    "        :param message: string to send\n",
    "        \"\"\"\n",
    "        pass\n",
    "\n",
    "    @abc.abstractmethod\n",
    "    def onreceive(self, callback):\n",
    "        \"\"\"\n",
    "        Sets a function \"(message: string) => None\" to be executed when a message\n",
    "        is received\n",
    "        :param callback: Function accepting 1 arg (string message) and returning nothing \n",
    "        \"\"\"\n",
    "        pass\n",
    "\n",
    "    @abc.abstractmethod\n",
    "    def ondisconnect(self, callback):\n",
    "        \"\"\"\n",
    "        Sets a function \"() => None\" to be executed when disconnect is complete\n",
    "        :param callback: Function accepting 0 arg and returning nothing \n",
    "        \"\"\"\n",
    "        pass\n",
    "\n",
    "    @abc.abstractmethod\n",
    "    def onconnect(self, callback):\n",
    "        \"\"\"\n",
    "        Sets a function \"() => None\" to be executed when connect is complete\n",
    "        :param callback: Function accepting 0 arg and returning nothing \n",
    "        \"\"\"\n",
    "        pass\n",
    "    \n",
    "    @abc.abstractmethod\n",
    "    def is_connected(self):\n",
    "        \"\"\"\n",
    "        True if channel is connected. False otherwise\n",
    "        \"\"\"\n",
    "        pass\n",
    "\n",
    "\n",
    "class State(abc.ABC):\n",
    "    def __init__(self, room, onconnect, ondisconnect, onreceive):\n",
    "        self.room = room\n",
    "        self.onconnect = onconnect\n",
    "        self.ondisconnect = ondisconnect\n",
    "        self.onreceive = onreceive\n",
    "\n",
    "    @abc.abstractmethod\n",
    "    def send(self, message):\n",
    "        pass\n",
    "\n",
    "    @abc.abstractmethod\n",
    "    def connect(self):\n",
    "        pass\n",
    "\n",
    "    @abc.abstractmethod\n",
    "    def disconnect(self):\n",
    "        pass\n",
    "\n",
    "    @abc.abstractmethod\n",
    "    def receive(self, message):\n",
    "        pass\n",
    "    \n",
    "    @abc.abstractmethod\n",
    "    def is_connected(self):\n",
    "        pass\n",
    "\n",
    "\n",
    "class Connected(State):\n",
    "    def __init__(self, *args):\n",
    "        super().__init__(*args)\n",
    "        self.room.connected_clients.add(self.room)\n",
    "\n",
    "    def send(self, message):\n",
    "        for room in self.room.connected_clients:\n",
    "            if room != self.room:\n",
    "                room.receive(message)\n",
    "\n",
    "    def connect(self):\n",
    "        pass\n",
    "\n",
    "    def disconnect(self):\n",
    "        self.room.connected_clients.remove(self.room)\n",
    "        self.room.set_state(Disconnected(\n",
    "            self.room, self.onconnect, self.ondisconnect, self.onreceive\n",
    "        ))\n",
    "        self.ondisconnect()\n",
    "\n",
    "    def receive(self, message):\n",
    "        self.onreceive(message)\n",
    "        \n",
    "    def is_connected(self):\n",
    "        return True\n",
    "\n",
    "\n",
    "class Connecting(State):\n",
    "    def __init__(self, *args):\n",
    "        super().__init__(*args)\n",
    "        Timer(3, lambda: self.room.set_state(Connected(\n",
    "            self.room, self.onconnect, self.ondisconnect, self.onreceive\n",
    "        ))).start()\n",
    "\n",
    "    def send(self, message):\n",
    "        raise RuntimeError('Tried to send a message while channel was in connecting state')\n",
    "\n",
    "    def connect(self):\n",
    "        pass\n",
    "\n",
    "    def disconnect(self):\n",
    "        self.room.set_state(Disconnected(\n",
    "            self.room, self.onconnect, self.ondisconnect, self.onreceive\n",
    "        ))\n",
    "        self.ondisconnect()\n",
    "\n",
    "    def receive(self, message):\n",
    "        pass\n",
    "    \n",
    "    def is_connected(self):\n",
    "        return False\n",
    "\n",
    "\n",
    "class Disconnected(State):\n",
    "    def send(self, message):\n",
    "        raise RuntimeError('Tried to send a message while channel was in disconnected state')\n",
    "\n",
    "    def connect(self):\n",
    "        self.room.set_state(Connecting(\n",
    "            self.room, self.onconnect, self.ondisconnect, self.onreceive\n",
    "        ))\n",
    "        self.onconnect()\n",
    "\n",
    "    def disconnect(self):\n",
    "        pass\n",
    "\n",
    "    def receive(self, message):\n",
    "        pass\n",
    "    \n",
    "    def is_connected(self):\n",
    "        return False\n",
    "\n",
    "\n",
    "class RoomInMemory(ChatRoom):\n",
    "    connected_clients = WeakSet()\n",
    "\n",
    "    def __init__(self):\n",
    "        self.__state = Disconnected(\n",
    "            self, lambda: None, lambda: None, lambda msg: None\n",
    "        )\n",
    "\n",
    "    def connect(self):\n",
    "        self.__state.connect()\n",
    "\n",
    "    def disconnect(self):\n",
    "        self.__state.disconnect()\n",
    "\n",
    "    def send(self, message):\n",
    "        self.__state.send(message)\n",
    "\n",
    "    def onreceive(self, callback):\n",
    "        self.__state.onreceive = callback\n",
    "\n",
    "    def ondisconnect(self, callback):\n",
    "        self.__state.ondisconnect = callback\n",
    "\n",
    "    def onconnect(self, callback):\n",
    "        self.__state.onconnect = callback\n",
    "        \n",
    "    def is_connected(self):\n",
    "        return self.__state.is_connected()\n",
    "        \n",
    "    def set_state(self, state):\n",
    "        self.__state = state\n",
    "\n",
    "    def receive(self, message):\n",
    "        self.__state.receive(message)\n",
    "\n",
    "\n",
    "class RoomFactory(abc.ABC):\n",
    "    \n",
    "    @abc.abstractmethod\n",
    "    def named(self, name):\n",
    "        \"\"\"\n",
    "        Returns a chat room\n",
    "        :param name: name of the channel\n",
    "        \"\"\"\n",
    "        pass\n",
    "\n",
    "\n",
    "class InMemoryFactory(RoomFactory):\n",
    "    \n",
    "    def named(self, name):\n",
    "        return RoomInMemory()\n"
   ]
  },
  {
   "cell_type": "markdown",
   "metadata": {},
   "source": [
    "## Testes parciais do exemplo 3"
   ]
  },
  {
   "cell_type": "code",
   "execution_count": 299,
   "metadata": {
    "collapsed": true
   },
   "outputs": [],
   "source": [
    "client1 = RoomInMemory()"
   ]
  },
  {
   "cell_type": "code",
   "execution_count": 300,
   "metadata": {
    "collapsed": true
   },
   "outputs": [],
   "source": [
    "client2 = RoomInMemory()"
   ]
  },
  {
   "cell_type": "code",
   "execution_count": 301,
   "metadata": {
    "collapsed": true
   },
   "outputs": [],
   "source": [
    "client1.onreceive(lambda msg: print('client1 receives: ' + msg))"
   ]
  },
  {
   "cell_type": "code",
   "execution_count": 302,
   "metadata": {
    "collapsed": true
   },
   "outputs": [],
   "source": [
    "client2.onreceive(lambda msg: print('client2 receives: ' + msg))"
   ]
  },
  {
   "cell_type": "code",
   "execution_count": 303,
   "metadata": {
    "collapsed": true
   },
   "outputs": [],
   "source": [
    "client1.connect()"
   ]
  },
  {
   "cell_type": "code",
   "execution_count": 304,
   "metadata": {
    "collapsed": true
   },
   "outputs": [],
   "source": [
    "client2.connect()"
   ]
  },
  {
   "cell_type": "code",
   "execution_count": 307,
   "metadata": {
    "collapsed": false
   },
   "outputs": [
    {
     "name": "stdout",
     "output_type": "stream",
     "text": [
      "client1 receives: message from client2\n"
     ]
    }
   ],
   "source": [
    "client2.send('message from client2')"
   ]
  },
  {
   "cell_type": "code",
   "execution_count": 308,
   "metadata": {
    "collapsed": false
   },
   "outputs": [
    {
     "name": "stdout",
     "output_type": "stream",
     "text": [
      "client2 receives: client 1 saying nothing\n"
     ]
    }
   ],
   "source": [
    "\n",
    "client1.send('client 1 saying nothing')"
   ]
  },
  {
   "cell_type": "code",
   "execution_count": 309,
   "metadata": {
    "collapsed": true
   },
   "outputs": [],
   "source": [
    "client1.disconnect()"
   ]
  },
  {
   "cell_type": "code",
   "execution_count": 310,
   "metadata": {
    "collapsed": true
   },
   "outputs": [],
   "source": [
    "client2.send('I know client1 disconnected, '\n",
    "             'so he cannot receive this (therefore no prints)')"
   ]
  },
  {
   "cell_type": "code",
   "execution_count": 311,
   "metadata": {
    "collapsed": true
   },
   "outputs": [],
   "source": [
    "client3 = RoomInMemory()\n",
    "client3.connect()"
   ]
  },
  {
   "cell_type": "code",
   "execution_count": 312,
   "metadata": {
    "collapsed": true
   },
   "outputs": [],
   "source": [
    "client3.onreceive(lambda msg: print('client 3 receiving: ' + msg))"
   ]
  },
  {
   "cell_type": "code",
   "execution_count": 313,
   "metadata": {
    "collapsed": true
   },
   "outputs": [],
   "source": [
    "client1.connect()"
   ]
  },
  {
   "cell_type": "code",
   "execution_count": 316,
   "metadata": {
    "collapsed": false
   },
   "outputs": [
    {
     "name": "stdout",
     "output_type": "stream",
     "text": [
      "client1 receives: I know I have 2 receivers\n",
      "client 3 receiving: I know I have 2 receivers\n"
     ]
    }
   ],
   "source": [
    "client2.send('I know I have 2 receivers')"
   ]
  },
  {
   "cell_type": "markdown",
   "metadata": {},
   "source": [
    "## Decorador do exemplo 3"
   ]
  },
  {
   "cell_type": "code",
   "execution_count": 373,
   "metadata": {
    "collapsed": true
   },
   "outputs": [],
   "source": [
    "class KeepAlive(ChatRoom):\n",
    "    \n",
    "    def is_connected(self):\n",
    "        return True\n",
    "\n",
    "    def __init__(self, room):\n",
    "        \"\"\"\n",
    "        Maintains a chat room always alive. As consequence,\n",
    "        clients of this class will never receive the 'ondisconnect' and\n",
    "        'onconnect' hooks, neither can the client try to disconnect \n",
    "        from the room\n",
    "        :param room: An instance of ChatRoom to be kept alive \n",
    "        \"\"\"\n",
    "        self.__queued_msgs = []\n",
    "        self.__room = room\n",
    "        self.__room.onconnect(self.__onconnect)\n",
    "        self.__room.ondisconnect(self.__ondisconnect)\n",
    "        self.__room.connect()\n",
    "    \n",
    "    def __onconnect(self):\n",
    "        for msg in self.__queued_msgs:\n",
    "            self.send(msg)\n",
    "        self.__queued_msgs = []\n",
    "        \n",
    "    def __ondisconnect(self):\n",
    "        self.__room.connect()\n",
    "\n",
    "    def connect(self):\n",
    "        pass\n",
    "\n",
    "    def disconnect(self):\n",
    "        pass\n",
    "\n",
    "    def send(self, message):\n",
    "        if self.is_connected():\n",
    "            self.__room.send(message)\n",
    "        else:\n",
    "            self.__queued_msgs.append(message)\n",
    "\n",
    "    def onreceive(self, callback):\n",
    "        self.__room.onreceive(callback)\n",
    "\n",
    "    def ondisconnect(self, callback):\n",
    "        pass\n",
    "\n",
    "    def onconnect(self, callback):\n",
    "        pass"
   ]
  },
  {
   "cell_type": "markdown",
   "metadata": {},
   "source": [
    "## Últimos testes do exemplo 3"
   ]
  },
  {
   "cell_type": "code",
   "execution_count": 374,
   "metadata": {
    "collapsed": true
   },
   "outputs": [],
   "source": [
    "internal = InMemoryFactory().named('my_channel')\n",
    "client = KeepAlive(internal)"
   ]
  },
  {
   "cell_type": "code",
   "execution_count": 396,
   "metadata": {
    "collapsed": false
   },
   "outputs": [
    {
     "data": {
      "text/plain": [
       "True"
      ]
     },
     "execution_count": 396,
     "metadata": {},
     "output_type": "execute_result"
    }
   ],
   "source": [
    "client.is_connected()"
   ]
  },
  {
   "cell_type": "code",
   "execution_count": 376,
   "metadata": {
    "collapsed": false
   },
   "outputs": [
    {
     "data": {
      "text/plain": [
       "True"
      ]
     },
     "execution_count": 376,
     "metadata": {},
     "output_type": "execute_result"
    }
   ],
   "source": [
    "internal.is_connected()"
   ]
  },
  {
   "cell_type": "code",
   "execution_count": 377,
   "metadata": {
    "collapsed": true
   },
   "outputs": [],
   "source": [
    "internal.disconnect()"
   ]
  },
  {
   "cell_type": "code",
   "execution_count": 383,
   "metadata": {
    "collapsed": false
   },
   "outputs": [
    {
     "data": {
      "text/plain": [
       "True"
      ]
     },
     "execution_count": 383,
     "metadata": {},
     "output_type": "execute_result"
    }
   ],
   "source": [
    "# Internal room is still alive !\n",
    "internal.is_connected()"
   ]
  },
  {
   "cell_type": "code",
   "execution_count": 384,
   "metadata": {
    "collapsed": false
   },
   "outputs": [],
   "source": [
    "client2 = InMemoryFactory().named('my_channel')"
   ]
  },
  {
   "cell_type": "code",
   "execution_count": 387,
   "metadata": {},
   "outputs": [],
   "source": [
    "client2.connect()"
   ]
  },
  {
   "cell_type": "code",
   "execution_count": 398,
   "metadata": {},
   "outputs": [],
   "source": [
    "client.onreceive(lambda msg: print('client1 receives:' + msg))"
   ]
  },
  {
   "cell_type": "code",
   "execution_count": 399,
   "metadata": {},
   "outputs": [
    {
     "name": "stdout",
     "output_type": "stream",
     "text": [
      "client1 receives:Hello\n"
     ]
    }
   ],
   "source": [
    "client2.send('Hello')"
   ]
  }
 ],
 "metadata": {
  "kernelspec": {
   "display_name": "Python 3",
   "language": "python",
   "name": "python3"
  },
  "language_info": {
   "codemirror_mode": {
    "name": "ipython",
    "version": 3
   },
   "file_extension": ".py",
   "mimetype": "text/x-python",
   "name": "python",
   "nbconvert_exporter": "python",
   "pygments_lexer": "ipython3",
   "version": "3.6.0"
  }
 },
 "nbformat": 4,
 "nbformat_minor": 2
}
