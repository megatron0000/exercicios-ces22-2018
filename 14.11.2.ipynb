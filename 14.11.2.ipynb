{
 "cells": [
  {
   "cell_type": "code",
   "execution_count": 2,
   "metadata": {
    "collapsed": false
   },
   "outputs": [],
   "source": [
    "def share_diagonal(x0, y0, x1, y1):\n",
    "    \"\"\" Is (x0, y0) on a shared diagonal with (x1, y1)? \"\"\"\n",
    "    dy = abs(y1 - y0)\n",
    "    dx = abs(x1 - x0)\n",
    "    return dx == dy\n",
    "\n",
    "def col_clashes(bs, c):\n",
    "    \"\"\" Return True if the queen at column c clashes\n",
    "    with any queen to its left.\n",
    "    \"\"\"\n",
    "    for i in range(c):\n",
    "        # Look at all columns to the left of c\n",
    "        if share_diagonal(i, bs[i], c, bs[c]):\n",
    "            return True\n",
    "    return False\n",
    "\n",
    "def has_clashes(the_board):\n",
    "    \"\"\" Determine whether we have any queens clashing on the diagonals.\n",
    "    We’re assuming here that the_board is a permutation of column\n",
    "    numbers, so we’re not explicitly checking row or column clashes.\n",
    "    \"\"\"\n",
    "    for col in range(1,len(the_board)):\n",
    "        if col_clashes(the_board, col):\n",
    "            return True\n",
    "    return False\n",
    "\n",
    "def main(size):\n",
    "    import random\n",
    "    rng = random.Random()\n",
    "    # Instantiate a generator\n",
    "    bd = list(range(size))\n",
    "    # Generate the initial permutation\n",
    "    num_found = 0\n",
    "    tries = 0\n",
    "    while num_found < 10:\n",
    "        rng.shuffle(bd)\n",
    "        tries += 1\n",
    "        if not has_clashes(bd):\n",
    "            print(\"Found solution {0} in {1} tries.\".format(bd, tries))\n",
    "            tries = 0\n",
    "            num_found += 1\n"
   ]
  },
  {
   "cell_type": "code",
   "execution_count": 3,
   "metadata": {
    "collapsed": false
   },
   "outputs": [
    {
     "name": "stdout",
     "output_type": "stream",
     "text": [
      "Found solution [2, 0, 3, 1] in 40 tries.\n",
      "Found solution [2, 0, 3, 1] in 2 tries.\n",
      "Found solution [2, 0, 3, 1] in 3 tries.\n",
      "Found solution [1, 3, 0, 2] in 19 tries.\n",
      "Found solution [2, 0, 3, 1] in 7 tries.\n",
      "Found solution [1, 3, 0, 2] in 1 tries.\n",
      "Found solution [2, 0, 3, 1] in 4 tries.\n",
      "Found solution [2, 0, 3, 1] in 46 tries.\n",
      "Found solution [1, 3, 0, 2] in 46 tries.\n",
      "Found solution [1, 3, 0, 2] in 10 tries.\n"
     ]
    }
   ],
   "source": [
    "main(4)"
   ]
  },
  {
   "cell_type": "code",
   "execution_count": 4,
   "metadata": {
    "collapsed": false
   },
   "outputs": [
    {
     "name": "stdout",
     "output_type": "stream",
     "text": [
      "Found solution [1, 10, 7, 3, 6, 11, 9, 5, 0, 8, 4, 2] in 54986 tries.\n",
      "Found solution [0, 5, 8, 6, 11, 3, 1, 9, 4, 10, 7, 2] in 19614 tries.\n",
      "Found solution [2, 7, 1, 6, 11, 5, 10, 0, 9, 4, 8, 3] in 30159 tries.\n",
      "Found solution [3, 7, 11, 4, 1, 9, 6, 2, 10, 8, 0, 5] in 1625 tries.\n",
      "Found solution [2, 4, 6, 10, 0, 11, 5, 8, 1, 9, 7, 3] in 62364 tries.\n",
      "Found solution [6, 0, 7, 1, 11, 2, 8, 3, 9, 4, 10, 5] in 72196 tries.\n",
      "Found solution [9, 1, 6, 0, 3, 11, 7, 10, 2, 5, 8, 4] in 22235 tries.\n",
      "Found solution [9, 7, 3, 11, 2, 8, 5, 0, 4, 1, 10, 6] in 313 tries.\n",
      "Found solution [8, 2, 4, 7, 9, 0, 5, 10, 1, 3, 6, 11] in 67705 tries.\n",
      "Found solution [4, 6, 11, 2, 7, 3, 0, 9, 1, 5, 10, 8] in 37053 tries.\n"
     ]
    }
   ],
   "source": [
    "main(12)"
   ]
  },
  {
   "cell_type": "code",
   "execution_count": 5,
   "metadata": {
    "collapsed": false
   },
   "outputs": [
    {
     "name": "stdout",
     "output_type": "stream",
     "text": [
      "Found solution [15, 8, 5, 14, 4, 0, 7, 11, 13, 3, 12, 9, 2, 6, 10, 1] in 1750094 tries.\n",
      "Found solution [10, 7, 13, 2, 12, 9, 0, 4, 1, 14, 11, 6, 8, 15, 5, 3] in 1017628 tries.\n",
      "Found solution [5, 8, 14, 7, 2, 15, 6, 0, 3, 10, 4, 13, 11, 9, 1, 12] in 52699 tries.\n",
      "Found solution [12, 0, 8, 4, 2, 15, 11, 14, 3, 9, 6, 13, 1, 10, 5, 7] in 592751 tries.\n",
      "Found solution [8, 6, 13, 7, 2, 12, 15, 4, 10, 5, 3, 11, 0, 14, 9, 1] in 2014972 tries.\n",
      "Found solution [8, 13, 0, 4, 1, 15, 6, 11, 3, 12, 9, 5, 14, 2, 10, 7] in 3173448 tries.\n",
      "Found solution [12, 15, 5, 8, 4, 1, 13, 2, 10, 6, 0, 9, 11, 14, 3, 7] in 316030 tries.\n",
      "Found solution [13, 6, 4, 7, 10, 15, 3, 14, 9, 2, 8, 5, 0, 12, 1, 11] in 4365383 tries.\n",
      "Found solution [9, 6, 14, 3, 15, 12, 4, 1, 7, 2, 11, 13, 8, 5, 0, 10] in 3114472 tries.\n",
      "Found solution [9, 12, 3, 11, 2, 5, 10, 1, 4, 6, 15, 0, 14, 8, 13, 7] in 135709 tries.\n"
     ]
    }
   ],
   "source": [
    "main(16)"
   ]
  }
 ],
 "metadata": {
  "kernelspec": {
   "display_name": "Python 3",
   "language": "python",
   "name": "python3"
  },
  "language_info": {
   "codemirror_mode": {
    "name": "ipython",
    "version": 3
   },
   "file_extension": ".py",
   "mimetype": "text/x-python",
   "name": "python",
   "nbconvert_exporter": "python",
   "pygments_lexer": "ipython3",
   "version": "3.6.0"
  }
 },
 "nbformat": 4,
 "nbformat_minor": 2
}
