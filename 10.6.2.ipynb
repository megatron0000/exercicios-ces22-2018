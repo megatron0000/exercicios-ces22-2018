{
 "cells": [
  {
   "cell_type": "code",
   "execution_count": 1,
   "metadata": {
    "collapsed": false
   },
   "outputs": [],
   "source": [
    "# Só introduzo wn.ontimer para ativar mudança no sinal a cada 1 segundo (1000 ms)\n",
    "\n",
    "import turtle\n",
    "\n",
    "turtle.setup(400,500)\n",
    "wn = turtle.Screen()\n",
    "wn.title(\"Tess becomes a traffic light!\")\n",
    "wn.bgcolor(\"lightgreen\")\n",
    "tess = turtle.Turtle()\n",
    "\n",
    "def draw_housing():\n",
    "    \"\"\" Draw a nice housing to hold the traffic lights \"\"\"\n",
    "    tess.pensize(3)\n",
    "    tess.color(\"black\", \"darkgrey\")\n",
    "    tess.begin_fill()\n",
    "    tess.forward(80)\n",
    "    tess.left(90)\n",
    "    tess.forward(200)\n",
    "    tess.circle(40, 180)\n",
    "    tess.forward(200)\n",
    "    tess.left(90)\n",
    "    tess.end_fill()\n",
    "\n",
    "draw_housing()\n",
    "\n",
    "tess.penup()\n",
    "tess.forward(40)\n",
    "tess.left(90)\n",
    "tess.forward(50)\n",
    "tess.shape(\"circle\")\n",
    "tess.shapesize(3)\n",
    "tess.fillcolor(\"green\")\n",
    "\n",
    "state_num = 0\n",
    "\n",
    "def advance_state_machine():\n",
    "    global state_num\n",
    "    global wn\n",
    "    wn.ontimer(advance_state_machine, 1000)\n",
    "    if state_num == 0:\n",
    "        tess.forward(70)\n",
    "        tess.fillcolor(\"orange\")\n",
    "        state_num = 1\n",
    "    elif state_num == 1:\n",
    "        tess.forward(70)\n",
    "        tess.fillcolor(\"red\")\n",
    "        state_num = 2\n",
    "    else:\n",
    "        tess.back(140)\n",
    "        tess.fillcolor(\"green\")\n",
    "        state_num = 0\n",
    "\n",
    "wn.ontimer(advance_state_machine, 1000)\n",
    "wn.listen()\n",
    "wn.mainloop()"
   ]
  }
 ],
 "metadata": {
  "kernelspec": {
   "display_name": "Python 3",
   "language": "python",
   "name": "python3"
  },
  "language_info": {
   "codemirror_mode": {
    "name": "ipython",
    "version": 3
   },
   "file_extension": ".py",
   "mimetype": "text/x-python",
   "name": "python",
   "nbconvert_exporter": "python",
   "pygments_lexer": "ipython3",
   "version": "3.6.0"
  }
 },
 "nbformat": 4,
 "nbformat_minor": 2
}
