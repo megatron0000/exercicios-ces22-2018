{
 "cells": [
  {
   "cell_type": "code",
   "execution_count": 1,
   "metadata": {
    "collapsed": true
   },
   "outputs": [],
   "source": [
    "import turtle"
   ]
  },
  {
   "cell_type": "code",
   "execution_count": 2,
   "metadata": {
    "collapsed": true
   },
   "outputs": [],
   "source": [
    "turtle.Screen().bgcolor('lightgreen')"
   ]
  },
  {
   "cell_type": "code",
   "execution_count": 3,
   "metadata": {
    "collapsed": true
   },
   "outputs": [],
   "source": [
    "alex = turtle.Turtle()"
   ]
  },
  {
   "cell_type": "code",
   "execution_count": 4,
   "metadata": {
    "collapsed": true
   },
   "outputs": [],
   "source": [
    "def drawStar():\n",
    "    for i in range(5):\n",
    "        alex.forward(100)\n",
    "        alex.right(360 * 2 / 5)"
   ]
  },
  {
   "cell_type": "code",
   "execution_count": 5,
   "metadata": {
    "collapsed": false
   },
   "outputs": [],
   "source": [
    "def drawStars(pendown=False):\n",
    "    drawStar()\n",
    "    for i in range(4):\n",
    "        if not pendown:\n",
    "            alex.penup()\n",
    "        alex.forward(350)\n",
    "        alex.right(144)\n",
    "        if not pendown:\n",
    "            alex.pendown()\n",
    "        drawStar()"
   ]
  },
  {
   "cell_type": "code",
   "execution_count": 6,
   "metadata": {
    "collapsed": true
   },
   "outputs": [],
   "source": [
    "\"\"\" Desenha as estrelas sem ligação, depois redesenha com ligação entre elas \"\"\"\n",
    "drawStars()\n",
    "alex = turtle.Turtle()\n",
    "alex.color('pink')\n",
    "drawStars(True)"
   ]
  }
 ],
 "metadata": {
  "kernelspec": {
   "display_name": "Python 3",
   "language": "python",
   "name": "python3"
  },
  "language_info": {
   "codemirror_mode": {
    "name": "ipython",
    "version": 3
   },
   "file_extension": ".py",
   "mimetype": "text/x-python",
   "name": "python",
   "nbconvert_exporter": "python",
   "pygments_lexer": "ipython3",
   "version": "3.6.0"
  }
 },
 "nbformat": 4,
 "nbformat_minor": 2
}
