{
 "cells": [
  {
   "cell_type": "code",
   "execution_count": 1,
   "metadata": {
    "collapsed": true
   },
   "outputs": [],
   "source": [
    "import sys\n",
    "def test(did_pass):\n",
    "    \"\"\" Print the result of a test. \"\"\"\n",
    "    linenum = sys._getframe(1).f_lineno\n",
    "    # Get the caller’s line number.\n",
    "    if did_pass:\n",
    "        msg = \"Test at line {0} ok.\".format(linenum)\n",
    "    else:\n",
    "        msg = (\"Test at line {0} FAILED.\".format(linenum))\n",
    "    print(msg)"
   ]
  },
  {
   "cell_type": "code",
   "execution_count": 2,
   "metadata": {
    "collapsed": true
   },
   "outputs": [],
   "source": [
    "def scalar_mult(s, vec):\n",
    "    out = []\n",
    "    for elem in vec:\n",
    "        out.append(elem * s)\n",
    "    return out"
   ]
  },
  {
   "cell_type": "code",
   "execution_count": 3,
   "metadata": {
    "collapsed": false
   },
   "outputs": [
    {
     "name": "stdout",
     "output_type": "stream",
     "text": [
      "Test at line 1 ok.\n",
      "Test at line 2 ok.\n",
      "Test at line 3 ok.\n"
     ]
    }
   ],
   "source": [
    "test(scalar_mult(5, [1, 2]) == [5, 10])\n",
    "test(scalar_mult(3, [1, 0, -1]) == [3, 0, -3])\n",
    "test(scalar_mult(7, [3, 0, 5, 11, 2]) == [21, 0, 35, 77, 14])"
   ]
  }
 ],
 "metadata": {
  "language_info": {
   "codemirror_mode": {
    "name": "ipython",
    "version": 3
   },
   "file_extension": ".py",
   "mimetype": "text/x-python",
   "name": "python",
   "nbconvert_exporter": "python",
   "pygments_lexer": "ipython3",
   "version": "3.6.0"
  }
 },
 "nbformat": 4,
 "nbformat_minor": 2
}
