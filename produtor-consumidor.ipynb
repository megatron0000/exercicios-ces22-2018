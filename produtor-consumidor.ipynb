{
 "cells": [
  {
   "cell_type": "code",
   "execution_count": 7,
   "metadata": {
    "collapsed": true
   },
   "outputs": [],
   "source": [
    "from threading import RLock\n",
    "from time import sleep\n",
    "from threading import Thread\n",
    "from sys import stdout\n",
    "\n",
    "class Queue:\n",
    "    \n",
    "    def __init__(self):\n",
    "        self.__items = []\n",
    "        self.__lock = RLock()\n",
    "\n",
    "    def enqueue(self, item):\n",
    "        self.__lock.acquire()\n",
    "        self.__items.append(item)\n",
    "        self.__lock.release()\n",
    "        \n",
    "    def is_empty(self):\n",
    "        self.__lock.acquire()\n",
    "        empty = len(self.__items) == 0\n",
    "        self.__lock.release()\n",
    "        return empty\n",
    "    \n",
    "    def dequeue(self):\n",
    "        self.__lock.acquire()\n",
    "        if self.is_empty():\n",
    "            raise RuntimeError\n",
    "        item = self.__items[0]\n",
    "        self.__items = self.__items[1:]\n",
    "        self.__lock.release()\n",
    "        return item\n",
    "    \n",
    "    def lock(self):\n",
    "        self.__lock.acquire()\n",
    "    \n",
    "    def unlock(self):\n",
    "        self.__lock.release()\n",
    "    \n",
    "def producer(queue):\n",
    "    for i in range(10):\n",
    "        print('producer puts', i, 'in queue')\n",
    "        stdout.flush()\n",
    "        queue.enqueue(i)\n",
    "        sleep(0.4)\n",
    "\n",
    "def consumer(queue, name):\n",
    "    for i in range(10):\n",
    "        queue.lock()\n",
    "        if not queue.is_empty():\n",
    "            print('consumer', name, 'gets', queue.dequeue())\n",
    "            stdout.flush()\n",
    "        queue.unlock()\n",
    "        sleep(0.5)"
   ]
  },
  {
   "cell_type": "code",
   "execution_count": 8,
   "metadata": {
    "collapsed": false
   },
   "outputs": [
    {
     "name": "stdout",
     "output_type": "stream",
     "text": [
      "producer puts 0 in queue\n",
      "producer puts 1 in queue\n",
      "consumer 1 gets 0\n",
      "consumer 2 gets 1\n",
      "producer puts 2 in queue\n",
      "consumer 1 gets 2\n",
      "producer puts 3 in queue\n",
      "consumer 1 gets 3\n",
      "producer puts 4 in queue\n",
      "consumer 1 gets 4\n",
      "producer puts 5 in queue\n",
      "producer puts 6 in queue\n",
      "consumer 1 gets 5\n",
      "consumer 2 gets 6\n",
      "producer puts 7 in queue\n",
      "consumer 1 gets 7\n",
      "producer puts 8 in queue\n",
      "consumer 1 gets 8\n",
      "producer puts 9 in queue\n",
      "consumer 1 gets 9\n"
     ]
    }
   ],
   "source": [
    "queue = Queue()\n",
    "prod = Thread(target=producer, args=(queue,))\n",
    "cons1 = Thread(target=consumer, args=(queue,'1'))\n",
    "cons2 = Thread(target=consumer, args=(queue,'2'))\n",
    "\n",
    "prod.start()\n",
    "cons1.start()\n",
    "cons2.start()\n",
    "prod.join()\n",
    "cons1.join()\n",
    "cons2.join()"
   ]
  },
  {
   "cell_type": "code",
   "execution_count": null,
   "metadata": {
    "collapsed": true
   },
   "outputs": [],
   "source": []
  }
 ],
 "metadata": {
  "kernelspec": {
   "display_name": "Python 3",
   "language": "python",
   "name": "python3"
  },
  "language_info": {
   "codemirror_mode": {
    "name": "ipython",
    "version": 3
   },
   "file_extension": ".py",
   "mimetype": "text/x-python",
   "name": "python",
   "nbconvert_exporter": "python",
   "pygments_lexer": "ipython3",
   "version": "3.6.0"
  }
 },
 "nbformat": 4,
 "nbformat_minor": 2
}
