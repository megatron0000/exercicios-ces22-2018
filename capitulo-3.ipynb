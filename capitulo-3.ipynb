{
 "cells": [
  {
   "cell_type": "code",
   "execution_count": 1,
   "metadata": {
    "collapsed": true
   },
   "outputs": [],
   "source": [
    "import turtle"
   ]
  },
  {
   "cell_type": "code",
   "execution_count": 2,
   "metadata": {
    "collapsed": false
   },
   "outputs": [],
   "source": [
    "turtle.Screen().bgcolor('lightgreen')\n",
    "alex = turtle.Turtle()\n",
    "alex.shape('turtle')\n",
    "alex.penup()\n",
    "alex.backward(300)\n",
    "alex.left(90)\n",
    "alex.forward(200)\n",
    "alex.right(90)\n",
    "alex.pendown()"
   ]
  },
  {
   "cell_type": "code",
   "execution_count": 3,
   "metadata": {
    "collapsed": true
   },
   "outputs": [],
   "source": [
    "def reset():\n",
    "    alex.clear()\n",
    "    alex.reset()\n",
    "    alex.penup()\n",
    "    alex.backward(100)\n",
    "    alex.pendown()"
   ]
  },
  {
   "cell_type": "code",
   "execution_count": 4,
   "metadata": {
    "collapsed": true
   },
   "outputs": [],
   "source": [
    "def drawPolygon(nSides, length):\n",
    "    for i in range(nSides):\n",
    "        alex.forward(length)\n",
    "        alex.left(360 / nSides)"
   ]
  },
  {
   "cell_type": "code",
   "execution_count": 5,
   "metadata": {
    "collapsed": false
   },
   "outputs": [],
   "source": [
    "def drawPolygons(sidesArray, length):\n",
    "    for side in sidesArray:\n",
    "        drawPolygon(side, length)\n",
    "        alex.penup()\n",
    "        alex.forward(3 * length)\n",
    "        alex.pendown()\n",
    "    alex.penup()\n",
    "    alex.backward(3 * length * len(sidesArray))\n",
    "    alex.pendown()"
   ]
  },
  {
   "cell_type": "code",
   "execution_count": 6,
   "metadata": {
    "collapsed": true
   },
   "outputs": [],
   "source": [
    "def drawStar():\n",
    "    for i in range(5):\n",
    "        alex.forward(100)\n",
    "        alex.right(360 * 2 / 5)"
   ]
  },
  {
   "cell_type": "code",
   "execution_count": 7,
   "metadata": {
    "collapsed": true
   },
   "outputs": [],
   "source": [
    "def drawClock():\n",
    "    for i in range(12):\n",
    "        alex.penup()\n",
    "        alex.forward(100)\n",
    "        alex.pendown()\n",
    "        alex.forward(20)\n",
    "        alex.penup()\n",
    "        alex.forward(20)\n",
    "        alex.stamp()\n",
    "        alex.backward(140)\n",
    "        alex.left(360 / 12)"
   ]
  },
  {
   "cell_type": "code",
   "execution_count": 8,
   "metadata": {
    "collapsed": true
   },
   "outputs": [],
   "source": [
    "def goDown(length):\n",
    "    alex.penup()\n",
    "    alex.right(90)\n",
    "    alex.forward(length)\n",
    "    alex.left(90)\n",
    "    alex.pendown()"
   ]
  },
  {
   "cell_type": "code",
   "execution_count": 9,
   "metadata": {
    "collapsed": false
   },
   "outputs": [
    {
     "name": "stdout",
     "output_type": "stream",
     "text": [
      "<class 'turtle.Turtle'>\n"
     ]
    }
   ],
   "source": [
    "drawPolygons([3, 4, 6, 8], 50)\n",
    "goDown(100)\n",
    "drawStar()\n",
    "goDown(240)\n",
    "alex.penup()\n",
    "alex.forward(300)\n",
    "alex.pendown()\n",
    "drawClock()\n",
    "print(type(alex))"
   ]
  }
 ],
 "metadata": {
  "kernelspec": {
   "display_name": "Python 3",
   "language": "python",
   "name": "python3"
  },
  "language_info": {
   "codemirror_mode": {
    "name": "ipython",
    "version": 3
   },
   "file_extension": ".py",
   "mimetype": "text/x-python",
   "name": "python",
   "nbconvert_exporter": "python",
   "pygments_lexer": "ipython3",
   "version": "3.6.0"
  }
 },
 "nbformat": 4,
 "nbformat_minor": 2
}
