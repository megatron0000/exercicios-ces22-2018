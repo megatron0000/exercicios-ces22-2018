{
 "cells": [
  {
   "cell_type": "code",
   "execution_count": 22,
   "metadata": {
    "collapsed": false
   },
   "outputs": [],
   "source": [
    "from re import findall\n",
    "\n",
    "file = open('alice.txt', 'r') \n",
    "text = file.read()\n",
    "words = findall(r'\\w+', text)\n",
    "dictionary = {}\n",
    "for word in words:\n",
    "    if dictionary.get(word) is None:\n",
    "        dictionary[word] = 0\n",
    "    dictionary[word] += 1\n",
    "file.close()\n",
    "file = open('alice_words.txt', \"w\")\n",
    "file.write('word\\t\\t\\tcount\\n')\n",
    "file.write('====================\\n\\n')\n",
    "for word, count in sorted(dictionary.items()):\n",
    "    file.write(word + '\\t\\t\\t' + str(count) + \"\\n\")"
   ]
  }
 ],
 "metadata": {
  "kernelspec": {
   "display_name": "Python 3",
   "language": "python",
   "name": "python3"
  },
  "language_info": {
   "codemirror_mode": {
    "name": "ipython",
    "version": 3
   },
   "file_extension": ".py",
   "mimetype": "text/x-python",
   "name": "python",
   "nbconvert_exporter": "python",
   "pygments_lexer": "ipython3",
   "version": "3.6.0"
  }
 },
 "nbformat": 4,
 "nbformat_minor": 2
}
