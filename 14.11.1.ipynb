{
 "cells": [
  {
   "cell_type": "code",
   "execution_count": 6,
   "metadata": {
    "collapsed": false
   },
   "outputs": [],
   "source": [
    "def merge(list1, list2):\n",
    "    def merger(onsmaller, onbigger, onequal, onremain1, onremain2):\n",
    "        index_1 = 0\n",
    "        index_2 = 0\n",
    "        out = []\n",
    "        def advance_1():\n",
    "            nonlocal index_1\n",
    "            index_1 = index_1 + 1\n",
    "        def advance_2():\n",
    "            nonlocal index_2\n",
    "            index_2 = index_2 + 1\n",
    "        while index_1 < len(list1) and index_2 < len(list2):\n",
    "            if list1[index_1] < list2[index_2]:\n",
    "                res = onsmaller(list1[index_1], list2[index_2], advance_1, advance_2)\n",
    "            elif list1[index_1] > list2[index_2]:\n",
    "                res = onbigger(list1[index_1], list2[index_2], advance_1, advance_2)\n",
    "            else:\n",
    "                res = onequal(list1[index_1], advance_1, advance_2)\n",
    "            if res is not None:\n",
    "                    out.append(res)\n",
    "        while index_1 < len(list1):\n",
    "            res = onremain1(list1[index_1])\n",
    "            if res is not None:\n",
    "                out.append(res)\n",
    "            index_1 = index_1 + 1\n",
    "        while index_2 < len(list2):\n",
    "            res = onremain2(list2[index_2])\n",
    "            if res is not None:\n",
    "                out.append(res)\n",
    "            index_2 = index_2 + 1\n",
    "        return out\n",
    "    return merger"
   ]
  },
  {
   "cell_type": "code",
   "execution_count": 7,
   "metadata": {
    "collapsed": true
   },
   "outputs": [],
   "source": [
    "# Brinquemos\n",
    "\n",
    "lista1 = [1, 3, 5, 7, 8, 8, 8, 9]\n",
    "lista2 = [1, 4, 6, 8, 10, 11, 12, 14, 15, 29]\n",
    "merger = merge(lista1, lista2)"
   ]
  },
  {
   "cell_type": "code",
   "execution_count": 8,
   "metadata": {
    "collapsed": false
   },
   "outputs": [
    {
     "name": "stdout",
     "output_type": "stream",
     "text": [
      "[1, 8]\n"
     ]
    }
   ],
   "source": [
    "# imprimir só os elementos que estão em ambas as listas\n",
    "\n",
    "def onsmaller(el1, el2, advance1, advance2):\n",
    "    advance1()\n",
    "\n",
    "def onbigger(el1, el2, advance1, advance2):\n",
    "    advance2()\n",
    "\n",
    "def onequal(el, advance1, advance2):\n",
    "    advance1()\n",
    "    advance2()\n",
    "    return el\n",
    "\n",
    "def onremain(el):\n",
    "    pass\n",
    "\n",
    "print(merger(onsmaller, onbigger, onequal, onremain, onremain))"
   ]
  },
  {
   "cell_type": "code",
   "execution_count": 14,
   "metadata": {
    "collapsed": false
   },
   "outputs": [
    {
     "name": "stdout",
     "output_type": "stream",
     "text": [
      "[3, 5, 7, 9]\n"
     ]
    }
   ],
   "source": [
    "# imprimir só os elementos que estão na primeira lista, mas não na segunda (o contrário é \n",
    "# trivialmente parecido, então vou omitir daqui)\n",
    "\n",
    "def onsmaller(el1, el2, advance1, advance2):\n",
    "    advance1()\n",
    "    return el1\n",
    "\n",
    "def onbigger(el1, el2, advace1, advance2):\n",
    "    advance2()\n",
    "\n",
    "def onequal(el, advance1, advance2):\n",
    "    advance1()\n",
    "    pass\n",
    "\n",
    "def onremain1(el):\n",
    "    return el\n",
    "\n",
    "def onremain2(el):\n",
    "    pass\n",
    "\n",
    "print(merger(onsmaller, onbigger, onequal, onremain1, onremain2))"
   ]
  },
  {
   "cell_type": "code",
   "execution_count": 15,
   "metadata": {
    "collapsed": false
   },
   "outputs": [
    {
     "name": "stdout",
     "output_type": "stream",
     "text": [
      "[3, 5, 7, 8, 8, 9]\n"
     ]
    }
   ],
   "source": [
    "# imprimir ap estilo bagdiff\n",
    "\n",
    "def onsmaller(el1, el2, advance1, advance2):\n",
    "    advance1()\n",
    "    return el1\n",
    "\n",
    "def onbigger(el1, el2, advace1, advance2):\n",
    "    advance2()\n",
    "\n",
    "def onequal(el, advance1, advance2):\n",
    "    advance1()\n",
    "    advance2()\n",
    "    pass\n",
    "\n",
    "def onremain1(el):\n",
    "    return el\n",
    "\n",
    "def onremain2(el):\n",
    "    pass\n",
    "\n",
    "print(merger(onsmaller, onbigger, onequal, onremain1, onremain2))"
   ]
  },
  {
   "cell_type": "code",
   "execution_count": 17,
   "metadata": {
    "collapsed": false
   },
   "outputs": [
    {
     "name": "stdout",
     "output_type": "stream",
     "text": [
      "[1, 3, 4, 5, 6, 7, 8, 8, 8, 9, 10, 11, 12, 14, 15, 29]\n"
     ]
    }
   ],
   "source": [
    "# imprimir qualquer elemento, quer esteja na primeira quer na segunda. Para não ser trivial, vou pelo menos\n",
    "# tirar a repetição de elementos, mas só enquanto não esgotar uma das listas\n",
    "\n",
    "def onsmaller(el1, el2, advance1, advance2):\n",
    "    advance1()\n",
    "    return el1\n",
    "\n",
    "def onbigger(el1, el2, advance1, advance2):\n",
    "    advance2()\n",
    "    return el2\n",
    "\n",
    "def onequal(el, advance1, advance2):\n",
    "    advance1()\n",
    "    advance2()\n",
    "    return el\n",
    "\n",
    "def onremain1(el):\n",
    "    return el\n",
    "\n",
    "def onremain2(el):\n",
    "    return el\n",
    "\n",
    "print(merger(onsmaller, onbigger, onequal, onremain1, onremain2))"
   ]
  }
 ],
 "metadata": {
  "kernelspec": {
   "display_name": "Python 3",
   "language": "python",
   "name": "python3"
  },
  "language_info": {
   "codemirror_mode": {
    "name": "ipython",
    "version": 3
   },
   "file_extension": ".py",
   "mimetype": "text/x-python",
   "name": "python",
   "nbconvert_exporter": "python",
   "pygments_lexer": "ipython3",
   "version": "3.6.0"
  }
 },
 "nbformat": 4,
 "nbformat_minor": 2
}
