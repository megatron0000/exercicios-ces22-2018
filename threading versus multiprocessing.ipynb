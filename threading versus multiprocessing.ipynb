{
 "cells": [
  {
   "cell_type": "code",
   "execution_count": 3,
   "metadata": {
    "collapsed": false
   },
   "outputs": [],
   "source": [
    "import threading\n",
    "import multiprocessing\n",
    "import time"
   ]
  },
  {
   "cell_type": "code",
   "execution_count": 14,
   "metadata": {
    "collapsed": false
   },
   "outputs": [
    {
     "name": "stdout",
     "output_type": "stream",
     "text": [
      "processes took: 38 ms\n",
      "threads took: 556 ms\n"
     ]
    }
   ],
   "source": [
    "\"\"\"\n",
    "Compare os tempos que worker demora com processos e com threads,\n",
    "e verá a gigante diferença de desempenho\n",
    "\"\"\"\n",
    "\n",
    "def worker():\n",
    "    for i in range(1000000):\n",
    "        pass\n",
    "\n",
    "if __name__ == '__main__':\n",
    "    proclist = [\n",
    "        multiprocessing.Process(target=worker) for i in range(10)\n",
    "    ]\n",
    "    threadlist = [\n",
    "        threading.Thread(target=worker) for i in range(10)\n",
    "    ]\n",
    "    now = time.clock()\n",
    "    for p in proclist:\n",
    "        p.start()\n",
    "    for p in proclist:\n",
    "        p.join()\n",
    "    print('processes took: %i ms' % (1000 * (time.clock() - now)))\n",
    "    now = time.clock()\n",
    "    for t in threadlist:\n",
    "        t.start()\n",
    "    for t in threadlist:\n",
    "        t.join()\n",
    "    print('threads took: %i ms' % (1000 * (time.clock() - now)))"
   ]
  }
 ],
 "metadata": {
  "kernelspec": {
   "display_name": "Python 3",
   "language": "python",
   "name": "python3"
  },
  "language_info": {
   "codemirror_mode": {
    "name": "ipython",
    "version": 3
   },
   "file_extension": ".py",
   "mimetype": "text/x-python",
   "name": "python",
   "nbconvert_exporter": "python",
   "pygments_lexer": "ipython3",
   "version": "3.6.0"
  }
 },
 "nbformat": 4,
 "nbformat_minor": 2
}
