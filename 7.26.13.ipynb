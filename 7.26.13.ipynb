{
 "cells": [
  {
   "cell_type": "code",
   "execution_count": 1,
   "metadata": {
    "collapsed": true
   },
   "outputs": [],
   "source": [
    "import turtle\n",
    "import math\n",
    "alex = turtle.Turtle()"
   ]
  },
  {
   "cell_type": "code",
   "execution_count": 2,
   "metadata": {
    "collapsed": true
   },
   "outputs": [],
   "source": [
    "# Desenhemos todas as que podem ser desenhadas\n",
    "l = 50;\n",
    "sqrt2 = math.sqrt(2)\n",
    "desenhos = [\n",
    "    [(-90, l), (90, l), (90, l), (90, l), (-120, l), (-120, l)],\n",
    "    [(120, l), (120, l), (30, l), (90, l), (135, l * sqrt2), (-135, l), (-90, l)],\n",
    "    [(0, l), (90, l), (90, l), (90, l), (-120, l), (-120, l), (30, l), (-120, l), (30, l), (-120, l)]\n",
    "]"
   ]
  },
  {
   "cell_type": "code",
   "execution_count": 3,
   "metadata": {
    "collapsed": false
   },
   "outputs": [],
   "source": [
    "desenhados = 1\n",
    "for desenho in desenhos:\n",
    "    for (ang, dist) in desenho:\n",
    "        alex.left(ang)\n",
    "        alex.forward(dist)\n",
    "    alex = turtle.Turtle()\n",
    "    alex.penup()\n",
    "    alex.forward(l * (desenhados + 1.1))\n",
    "    alex.pendown()\n",
    "    desenhados += 1"
   ]
  }
 ],
 "metadata": {
  "kernelspec": {
   "display_name": "Python 3",
   "language": "python",
   "name": "python3"
  },
  "language_info": {
   "codemirror_mode": {
    "name": "ipython",
    "version": 3
   },
   "file_extension": ".py",
   "mimetype": "text/x-python",
   "name": "python",
   "nbconvert_exporter": "python",
   "pygments_lexer": "ipython3",
   "version": "3.6.0"
  }
 },
 "nbformat": 4,
 "nbformat_minor": 2
}
