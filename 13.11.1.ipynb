{
 "cells": [
  {
   "cell_type": "code",
   "execution_count": 1,
   "metadata": {
    "collapsed": true
   },
   "outputs": [],
   "source": [
    "# Leia o arquivo '13.11.1.read' e veja que este script cria um outro '13.11.1.write' com as linhas invertidas\n",
    "\n",
    "in_file = open('13.11.1.read', 'r')\n",
    "out_file = open('13.11.1.write', 'w')\n",
    "\n",
    "lines = in_file.readlines()\n",
    "lines_inverse = []\n",
    "\n",
    "for line in lines:\n",
    "    lines_inverse.insert(0, line)\n",
    "\n",
    "for line in lines_inverse:\n",
    "    out_file.write(line)\n",
    "    \n",
    "out_file.close()"
   ]
  }
 ],
 "metadata": {
  "kernelspec": {
   "display_name": "Python 3",
   "language": "python",
   "name": "python3"
  },
  "language_info": {
   "codemirror_mode": {
    "name": "ipython",
    "version": 3
   },
   "file_extension": ".py",
   "mimetype": "text/x-python",
   "name": "python",
   "nbconvert_exporter": "python",
   "pygments_lexer": "ipython3",
   "version": "3.6.0"
  }
 },
 "nbformat": 4,
 "nbformat_minor": 2
}
