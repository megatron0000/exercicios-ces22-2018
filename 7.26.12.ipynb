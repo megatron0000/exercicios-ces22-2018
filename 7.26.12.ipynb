{
 "cells": [
  {
   "cell_type": "code",
   "execution_count": 1,
   "metadata": {
    "collapsed": false
   },
   "outputs": [],
   "source": [
    "import turtle\n",
    "import math\n",
    "alex = turtle.Turtle()\n",
    "lista = [(0, 100), (135, 100 * math.sqrt(2)), (-135, 100), (-135, 100 * math.sqrt(2)), (-135, 100), (-30, 100), (-120, 100), (-30, 100)]\n",
    "for (angulo, dist) in lista:\n",
    "    alex.left(angulo)\n",
    "    alex.forward(dist)"
   ]
  },
  {
   "cell_type": "code",
   "execution_count": null,
   "metadata": {
    "collapsed": true
   },
   "outputs": [],
   "source": []
  }
 ],
 "metadata": {
  "kernelspec": {
   "display_name": "Python 3",
   "language": "python",
   "name": "python3"
  },
  "language_info": {
   "codemirror_mode": {
    "name": "ipython",
    "version": 3
   },
   "file_extension": ".py",
   "mimetype": "text/x-python",
   "name": "python",
   "nbconvert_exporter": "python",
   "pygments_lexer": "ipython3",
   "version": "3.6.0"
  }
 },
 "nbformat": 4,
 "nbformat_minor": 2
}
